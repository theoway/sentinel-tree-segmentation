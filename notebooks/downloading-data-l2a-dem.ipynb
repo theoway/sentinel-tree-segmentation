{
 "cells": [
  {
   "cell_type": "code",
   "execution_count": 188,
   "id": "e2352bc7",
   "metadata": {},
   "outputs": [],
   "source": [
    "import json"
   ]
  },
  {
   "cell_type": "code",
   "execution_count": 254,
   "id": "03a0ea22",
   "metadata": {},
   "outputs": [],
   "source": [
    "from sentinelhub import SentinelHubRequest, SentinelHubDownloadClient, BBox, CRS, DataCollection, MimeType, SHConfig\n",
    "from sentinelhub import WmsRequest, WcsRequest\n",
    "from sentinelhub import constants, CustomUrlParam\n",
    "from dotenv import load_dotenv\n",
    "import os\n",
    "import numpy as np\n",
    "import matplotlib.pyplot as plt\n",
    "from tqdm import tqdm"
   ]
  },
  {
   "cell_type": "code",
   "execution_count": 197,
   "id": "19b1ef69",
   "metadata": {},
   "outputs": [],
   "source": [
    "config = SHConfig()\n",
    "config.sh_client_id = os.getenv(\"CLIENT_ID\")\n",
    "config.sh_client_secret = os.getenv(\"CLIENT_SECRET\")"
   ]
  },
  {
   "cell_type": "code",
   "execution_count": 196,
   "id": "b07b84cf",
   "metadata": {},
   "outputs": [
    {
     "data": {
      "text/plain": [
       "True"
      ]
     },
     "execution_count": 196,
     "metadata": {},
     "output_type": "execute_result"
    }
   ],
   "source": [
    "load_dotenv()"
   ]
  },
  {
   "cell_type": "code",
   "execution_count": 219,
   "id": "d2dda4ef",
   "metadata": {},
   "outputs": [],
   "source": [
    "# path = \"../data/bbox/bbox_2.json\"\n",
    "path = \"../notebooks/bounding_boxes0.geojson\"\n",
    "with open(path) as file:\n",
    "    data = json.load(file)"
   ]
  },
  {
   "cell_type": "code",
   "execution_count": 228,
   "id": "351df8a0",
   "metadata": {},
   "outputs": [],
   "source": [
    "def getL2A():\n",
    "    evalscript_true_color =\"\"\"//VERSION=3\n",
    "\n",
    "    function setup() {\n",
    "        return {\n",
    "            input: [{\n",
    "                bands: [\"B02\", \"B03\", \"B04\", \"B05\", \"B06\", \"B07\", \"B8A\", \"B09\", \"B11\", \"B12\", \"CLM\", \"dataMask\"],\n",
    "            }],\n",
    "            output: {\n",
    "                bands: 11\n",
    "            }\n",
    "        };\n",
    "    }\n",
    "\n",
    "    function evaluatePixel(sample) {\n",
    "        if (sample.dataMask != 1) {\n",
    "            return [-1, -1, -1]\n",
    "        }\n",
    "        return [\n",
    "            sample.B02,\n",
    "            sample.B03,\n",
    "            sample.B04,\n",
    "            sample.B05,\n",
    "            sample.B06,\n",
    "            sample.B07,\n",
    "            sample.B8A,\n",
    "            sample.B09,\n",
    "            sample.B11,\n",
    "            sample.B12,\n",
    "            sample.CLM,\n",
    "        ];\n",
    "    }\"\"\"\n",
    "\n",
    "\n",
    "    request = SentinelHubRequest(\n",
    "        data_folder = data_folder,\n",
    "        evalscript=evalscript_true_color,\n",
    "        input_data=[\n",
    "            SentinelHubRequest.input_data(\n",
    "                data_collection=DataCollection.SENTINEL2_L2A,\n",
    "                time_interval=time_interval,\n",
    "                mosaicking_order=\"leastCC\",\n",
    "    \n",
    "            )\n",
    "        ],\n",
    "        responses=[SentinelHubRequest.output_response(\"default\", MimeType.TIFF)],\n",
    "        bbox=bbox,\n",
    "        size=size,\n",
    "        config=config,\n",
    "    )\n",
    "\n",
    "    image = request.get_data()[0]\n",
    "    \n",
    "    return image\n"
   ]
  },
  {
   "cell_type": "code",
   "execution_count": 245,
   "id": "329ef321",
   "metadata": {},
   "outputs": [],
   "source": [
    "def getDEM():\n",
    "    evalscript_true_color = \"\"\"\n",
    "    //VERSION=3\n",
    "\n",
    "    function setup() {\n",
    "        return {\n",
    "            input: [{\n",
    "                bands: [\"DEM\"]\n",
    "            }],\n",
    "            output: {\n",
    "                bands: 1,\n",
    "                sampleType: \"FLOAT32\" \n",
    "            }\n",
    "        };\n",
    "    }\n",
    "\n",
    "    function evaluatePixel(sample) {\n",
    "        return [sample.DEM];\n",
    "    }\n",
    "    \"\"\"\n",
    "\n",
    "    request = SentinelHubRequest(\n",
    "        data_folder = data_folder,\n",
    "        evalscript=evalscript_true_color,\n",
    "        input_data=[\n",
    "            SentinelHubRequest.input_data(\n",
    "                data_collection=DataCollection.DEM,\n",
    "                time_interval=time_interval,\n",
    "                mosaicking_order=\"leastCC\"\n",
    "\n",
    "            )\n",
    "        ],\n",
    "        responses=[SentinelHubRequest.output_response(\"default\", MimeType.TIFF)],\n",
    "        bbox=bbox,\n",
    "        size=size,\n",
    "        config=config,\n",
    "    )\n",
    "\n",
    "    dem = request.get_data()[0]\n",
    "    return dem\n",
    "# print(np.sum(image))\n",
    "# image = request.get_data(save_data = True, show_progress=True)"
   ]
  },
  {
   "cell_type": "code",
   "execution_count": 256,
   "id": "aed48fed",
   "metadata": {},
   "outputs": [
    {
     "name": "stderr",
     "output_type": "stream",
     "text": [
      "100%|█████████████████████████████████████████████████████████████████████████████████| 100/100 [10:34<00:00,  6.34s/it]\n"
     ]
    }
   ],
   "source": [
    "time_interval = \"2023-08-30\", \"2023-08-31\"\n",
    "data_folder = \"../sat_imgs\"\n",
    "for i in tqdm(range(100)):\n",
    "    coords = data['features'][i]['geometry']['coordinates'][0]\n",
    "    bl = (min(row[0] for row in coords), min(row[1] for row in coords))\n",
    "    tr = (max(row[0] for row in coords), max(row[1] for row in coords))\n",
    "    size = (data['features'][i]['properties']['width'], data['features'][i]['properties']['height'])\n",
    "    bbox = BBox((bl, tr), crs=CRS.WGS84)  \n",
    "    image = getL2A()\n",
    "    dem = getDEM()\n",
    "    dem3 = dem[:, :, np.newaxis]\n",
    "    final_image = np.concatenate((image, dem3), axis = -1)\n",
    "    np.save(\"../data/sat_imgs/{iid}.npy\".format(iid = i), image)\n",
    "#     break"
   ]
  },
  {
   "cell_type": "code",
   "execution_count": 248,
   "id": "009d5b29",
   "metadata": {},
   "outputs": [],
   "source": [
    "im_rgb = image[..., 0 : 3] \n",
    "# ndvi = (image[..., 3] - image[..., 2]) / (image[..., 3] + image[..., 2])\n",
    "im2 = image[..., 7 : 10]\n",
    "clm = image[..., -1]"
   ]
  },
  {
   "cell_type": "code",
   "execution_count": 249,
   "id": "68820430",
   "metadata": {},
   "outputs": [
    {
     "data": {
      "text/plain": [
       "((523, 499, 11), (523, 499, 1))"
      ]
     },
     "execution_count": 249,
     "metadata": {},
     "output_type": "execute_result"
    }
   ],
   "source": [
    "image.shape, dem3.shape"
   ]
  },
  {
   "cell_type": "code",
   "execution_count": 250,
   "id": "5cb83ac8",
   "metadata": {},
   "outputs": [
    {
     "data": {
      "text/plain": [
       "(523, 499, 12)"
      ]
     },
     "execution_count": 250,
     "metadata": {},
     "output_type": "execute_result"
    }
   ],
   "source": [
    "\n",
    "final_image.shape"
   ]
  },
  {
   "cell_type": "code",
   "execution_count": 251,
   "id": "f7f5ba84",
   "metadata": {},
   "outputs": [
    {
     "data": {
      "text/plain": [
       "<matplotlib.image.AxesImage at 0x7fc1d0d08fd0>"
      ]
     },
     "execution_count": 251,
     "metadata": {},
     "output_type": "execute_result"
    },
    {
     "data": {
      "image/png": "[encoded data removed]",
      "text/plain": [
       "<Figure size 1000x1000 with 4 Axes>"
      ]
     },
     "metadata": {},
     "output_type": "display_data"
    }
   ],
   "source": [
    "fig = plt.figure(figsize = (10, 10))\n",
    "ax1 = fig.add_subplot(2,2,1)\n",
    "ax1.imshow(im_rgb * 3)\n",
    "ax2 = fig.add_subplot(2,2,2)\n",
    "ax2.imshow(im2 * 3)\n",
    "ax3 = fig.add_subplot(2,2,3)\n",
    "ax3.imshow(clm * 3, cmap = 'gray')\n",
    "ax4 = fig.add_subplot(2,2,4)\n",
    "ax4.imshow(dem, cmap = 'gray')"
   ]
  },
  {
   "cell_type": "code",
   "execution_count": 31,
   "id": "6c42fbf4",
   "metadata": {},
   "outputs": [],
   "source": [
    "np.save(\"../data/sat_imgs/tmp.npy\", image)"
   ]
  },
  {
   "cell_type": "code",
   "execution_count": 88,
   "id": "376cd683",
   "metadata": {},
   "outputs": [],
   "source": [
    "data = np.load('../sat_imgs/1/L2A.npy')\n"
   ]
  },
  {
   "cell_type": "code",
   "execution_count": 205,
   "id": "0ce7bcc0",
   "metadata": {},
   "outputs": [],
   "source": [
    "from scipy.ndimage import median_filter"
   ]
  },
  {
   "cell_type": "code",
   "execution_count": 207,
   "id": "e8f4433d",
   "metadata": {},
   "outputs": [],
   "source": [
    "%run slope.py"
   ]
  },
  {
   "cell_type": "code",
   "execution_count": 208,
   "id": "09f69fed",
   "metadata": {},
   "outputs": [],
   "source": [
    "def process_dem(dem):\n",
    "    dem =  median_filter(dem, size = 5)\n",
    "    dem = calcSlope(dem.reshape((1, 512, 512)),\n",
    "                      np.full((512, 512), 10),\n",
    "                      np.full((512, 512), 10), \n",
    "                      zScale = 1, minSlope = 0.02)\n",
    "    dem = dem / 90\n",
    "    dem = dem.reshape((512, 512, 1))\n",
    "    dem = dem[1:-1, 1:-1]\n",
    "    dem = median_filter(dem, 5)[2:-2, 2:-2]\n",
    "    return dem\n"
   ]
  },
  {
   "cell_type": "code",
   "execution_count": 209,
   "id": "ec84ef19",
   "metadata": {},
   "outputs": [],
   "source": [
    "dem = process_dem(dem)"
   ]
  },
  {
   "cell_type": "code",
   "execution_count": 210,
   "id": "5ac71fa1",
   "metadata": {},
   "outputs": [
    {
     "data": {
      "text/plain": [
       "(506, 506, 1)"
      ]
     },
     "execution_count": 210,
     "metadata": {},
     "output_type": "execute_result"
    }
   ],
   "source": [
    "dem.shape"
   ]
  },
  {
   "cell_type": "code",
   "execution_count": 50,
   "id": "10cd116b",
   "metadata": {},
   "outputs": [],
   "source": [
    "path = os.path.join(\"../sat_imgs\", \"1\")"
   ]
  },
  {
   "cell_type": "code",
   "execution_count": 51,
   "id": "b7316815",
   "metadata": {},
   "outputs": [],
   "source": [
    "os.mkdir(path)"
   ]
  },
  {
   "cell_type": "code",
   "execution_count": 52,
   "id": "4bb8dcfb",
   "metadata": {},
   "outputs": [],
   "source": [
    "np.save(path + \"/dem\", dem)"
   ]
  },
  {
   "cell_type": "raw",
   "id": "4113e962",
   "metadata": {},
   "source": [
    "plot_image(image, factor=3.5 / 255, clip_range=(0, 1))"
   ]
  },
  {
   "cell_type": "code",
   "execution_count": 47,
   "id": "54042bcc",
   "metadata": {},
   "outputs": [
    {
     "name": "stdout",
     "output_type": "stream",
     "text": [
      "../sat_imgs/0a63ba069684fa673af9ea69e0cf5d8b/request.json\n",
      "../sat_imgs/0a63ba069684fa673af9ea69e0cf5d8b/response.tiff\n",
      "../sat_imgs/5515fc22c452136d8490bdd7c357a570/request.json\n",
      "../sat_imgs/5515fc22c452136d8490bdd7c357a570/response.png\n",
      "../sat_imgs/0b72b652985b4785df4400ef164c6874/request.json\n",
      "../sat_imgs/0b72b652985b4785df4400ef164c6874/response.tiff\n"
     ]
    }
   ],
   "source": [
    "for folder, _, filenames in os.walk(request.data_folder):\n",
    "    for filename in filenames:\n",
    "        print(os.path.join(folder, filename))"
   ]
  },
  {
   "cell_type": "code",
   "execution_count": 91,
   "id": "45038ed5",
   "metadata": {},
   "outputs": [],
   "source": [
    "from datetime import datetime, timedelta"
   ]
  },
  {
   "cell_type": "code",
   "execution_count": 76,
   "id": "bc0ed046",
   "metadata": {},
   "outputs": [
    {
     "data": {
      "text/plain": [
       "'2023-12-03'"
      ]
     },
     "execution_count": 76,
     "metadata": {},
     "output_type": "execute_result"
    }
   ],
   "source": [
    "today = datetime.today()\n",
    "formatted_date = today.strftime(\"%Y-%m-%d\")\n",
    "formatted_date"
   ]
  },
  {
   "cell_type": "code",
   "execution_count": 77,
   "id": "1218c971",
   "metadata": {},
   "outputs": [],
   "source": [
    "inputdate = \"2023-09-13\"\n"
   ]
  },
  {
   "cell_type": "code",
   "execution_count": 88,
   "id": "df08b8bc",
   "metadata": {},
   "outputs": [],
   "source": [
    "dt = [int(d) for d in inputdate.split('-')]\n",
    "dtt = datetime(*dt)"
   ]
  },
  {
   "cell_type": "code",
   "execution_count": 92,
   "id": "a10c12f5",
   "metadata": {},
   "outputs": [
    {
     "name": "stdout",
     "output_type": "stream",
     "text": [
      "2023-07-15\n",
      "2023-11-12\n"
     ]
    }
   ],
   "source": [
    "st = dtt - timedelta(days = 60)\n",
    "end = dtt + timedelta(days = 60)\n",
    "print(st.strftime(\"%Y-%m-%d\"))\n",
    "print(end.strftime(\"%Y-%m-%d\"))"
   ]
  },
  {
   "cell_type": "code",
   "execution_count": 90,
   "id": "0c0fe4b0",
   "metadata": {},
   "outputs": [
    {
     "ename": "TypeError",
     "evalue": "__init__() missing 1 required keyword-only argument: 'data_collection'",
     "output_type": "error",
     "traceback": [
      "\u001b[0;31m---------------------------------------------------------------------------\u001b[0m",
      "\u001b[0;31mTypeError\u001b[0m                                 Traceback (most recent call last)",
      "\u001b[0;32m/tmp/ipykernel_151/1246595394.py\u001b[0m in \u001b[0;36m<module>\u001b[0;34m\u001b[0m\n\u001b[1;32m      4\u001b[0m                          \u001b[0mconfig\u001b[0m\u001b[0;34m=\u001b[0m\u001b[0mconfig\u001b[0m\u001b[0;34m,\u001b[0m\u001b[0;34m\u001b[0m\u001b[0;34m\u001b[0m\u001b[0m\n\u001b[1;32m      5\u001b[0m                          \u001b[0mimage_format\u001b[0m\u001b[0;34m=\u001b[0m \u001b[0mMimeType\u001b[0m\u001b[0;34m.\u001b[0m\u001b[0mTIFF\u001b[0m\u001b[0;34m,\u001b[0m\u001b[0;34m\u001b[0m\u001b[0;34m\u001b[0m\u001b[0m\n\u001b[0;32m----> 6\u001b[0;31m                          custom_url_params={CustomUrlParam.SHOWLOGO: False})\n\u001b[0m\u001b[1;32m      7\u001b[0m \u001b[0mdem_image_init\u001b[0m \u001b[0;34m=\u001b[0m \u001b[0mdem_request\u001b[0m\u001b[0;34m.\u001b[0m\u001b[0mget_data\u001b[0m\u001b[0;34m(\u001b[0m\u001b[0;34m)\u001b[0m\u001b[0;34m[\u001b[0m\u001b[0;36m0\u001b[0m\u001b[0;34m]\u001b[0m\u001b[0;34m\u001b[0m\u001b[0;34m\u001b[0m\u001b[0m\n",
      "\u001b[0;32m~/miniconda3/lib/python3.7/site-packages/sentinelhub/api/ogc.py\u001b[0m in \u001b[0;36m__init__\u001b[0;34m(self, resx, resy, **kwargs)\u001b[0m\n\u001b[1;32m    293\u001b[0m         \u001b[0;34m:\u001b[0m\u001b[0mparam\u001b[0m \u001b[0mconfig\u001b[0m\u001b[0;34m:\u001b[0m \u001b[0mA\u001b[0m \u001b[0mcustom\u001b[0m \u001b[0minstance\u001b[0m \u001b[0mof\u001b[0m \u001b[0mconfig\u001b[0m \u001b[0;32mclass\u001b[0m \u001b[0mto\u001b[0m \u001b[0moverride\u001b[0m \u001b[0mparameters\u001b[0m \u001b[0;32mfrom\u001b[0m \u001b[0mthe\u001b[0m \u001b[0msaved\u001b[0m \u001b[0mconfiguration\u001b[0m\u001b[0;34m.\u001b[0m\u001b[0;34m\u001b[0m\u001b[0;34m\u001b[0m\u001b[0m\n\u001b[1;32m    294\u001b[0m         \"\"\"\n\u001b[0;32m--> 295\u001b[0;31m         \u001b[0msuper\u001b[0m\u001b[0;34m(\u001b[0m\u001b[0;34m)\u001b[0m\u001b[0;34m.\u001b[0m\u001b[0m__init__\u001b[0m\u001b[0;34m(\u001b[0m\u001b[0mservice_type\u001b[0m\u001b[0;34m=\u001b[0m\u001b[0mServiceType\u001b[0m\u001b[0;34m.\u001b[0m\u001b[0mWCS\u001b[0m\u001b[0;34m,\u001b[0m \u001b[0msize_x\u001b[0m\u001b[0;34m=\u001b[0m\u001b[0mresx\u001b[0m\u001b[0;34m,\u001b[0m \u001b[0msize_y\u001b[0m\u001b[0;34m=\u001b[0m\u001b[0mresy\u001b[0m\u001b[0;34m,\u001b[0m \u001b[0;34m**\u001b[0m\u001b[0mkwargs\u001b[0m\u001b[0;34m)\u001b[0m\u001b[0;34m\u001b[0m\u001b[0;34m\u001b[0m\u001b[0m\n\u001b[0m\u001b[1;32m    296\u001b[0m \u001b[0;34m\u001b[0m\u001b[0m\n\u001b[1;32m    297\u001b[0m \u001b[0;34m\u001b[0m\u001b[0m\n",
      "\u001b[0;31mTypeError\u001b[0m: __init__() missing 1 required keyword-only argument: 'data_collection'"
     ]
    }
   ],
   "source": [
    "dem_request = WcsRequest(\n",
    "                         layer='DEM', bbox=bbox,\n",
    "                         resx = \"10m\", resy = \"10m\",\n",
    "                         config=config,\n",
    "                         image_format= MimeType.TIFF,\n",
    "                         custom_url_params={CustomUrlParam.SHOWLOGO: False})\n",
    "dem_image_init = dem_request.get_data()[0]"
   ]
  },
  {
   "cell_type": "code",
   "execution_count": 53,
   "id": "963f1f8b",
   "metadata": {},
   "outputs": [],
   "source": [
    "from slope import calcSlope"
   ]
  },
  {
   "cell_type": "code",
   "execution_count": 55,
   "id": "3686c216",
   "metadata": {},
   "outputs": [
    {
     "data": {
      "text/plain": [
       "True"
      ]
     },
     "execution_count": 55,
     "metadata": {},
     "output_type": "execute_result"
    }
   ],
   "source": [
    "os.path.isdir(path) "
   ]
  },
  {
   "cell_type": "code",
   "execution_count": 56,
   "id": "6c2190ab",
   "metadata": {},
   "outputs": [
    {
     "ename": "AttributeError",
     "evalue": "'SentinelHubRequest' object has no attribute 'execute'",
     "output_type": "error",
     "traceback": [
      "\u001b[0;31m---------------------------------------------------------------------------\u001b[0m",
      "\u001b[0;31mAttributeError\u001b[0m                            Traceback (most recent call last)",
      "\u001b[0;32m/tmp/ipykernel_121/3878303744.py\u001b[0m in \u001b[0;36m<module>\u001b[0;34m\u001b[0m\n\u001b[0;32m----> 1\u001b[0;31m \u001b[0mrequest\u001b[0m\u001b[0;34m.\u001b[0m\u001b[0mexecute\u001b[0m\u001b[0;34m(\u001b[0m\u001b[0;34m)\u001b[0m\u001b[0;34m\u001b[0m\u001b[0;34m\u001b[0m\u001b[0m\n\u001b[0m",
      "\u001b[0;31mAttributeError\u001b[0m: 'SentinelHubRequest' object has no attribute 'execute'"
     ]
    }
   ],
   "source": [
    "request.execute()"
   ]
  },
  {
   "cell_type": "code",
   "execution_count": null,
   "id": "24e815af",
   "metadata": {},
   "outputs": [],
   "source": []
  }
 ],
 "metadata": {
  "kernelspec": {
   "display_name": "Python 3 (ipykernel)",
   "language": "python",
   "name": "python3"
  },
  "language_info": {
   "codemirror_mode": {
    "name": "ipython",
    "version": 3
   },
   "file_extension": ".py",
   "mimetype": "text/x-python",
   "name": "python",
   "nbconvert_exporter": "python",
   "pygments_lexer": "ipython3",
   "version": "3.7.16"
  }
 },
 "nbformat": 4,
 "nbformat_minor": 5
}
