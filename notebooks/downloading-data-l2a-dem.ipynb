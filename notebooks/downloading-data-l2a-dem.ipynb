{
 "cells": [
  {
   "cell_type": "code",
   "execution_count": 3,
   "id": "e2352bc7",
   "metadata": {},
   "outputs": [],
   "source": [
    "import json"
   ]
  },
  {
   "cell_type": "code",
   "execution_count": 4,
   "id": "d2dda4ef",
   "metadata": {},
   "outputs": [],
   "source": [
    "# path = \"../data/bbox/bbox_2.json\"\n",
    "path = \"../notebooks/bounding_boxes.geojson\"\n",
    "with open(path) as file:\n",
    "    data = json.load(file)"
   ]
  },
  {
   "cell_type": "code",
   "execution_count": 43,
   "id": "aed48fed",
   "metadata": {},
   "outputs": [],
   "source": [
    "coords = data['features'][1020]['geometry']['coordinates'][0]"
   ]
  },
  {
   "cell_type": "code",
   "execution_count": 44,
   "id": "f69bea92",
   "metadata": {},
   "outputs": [],
   "source": [
    "# coords = data['geometry']['coordinates'][0]"
   ]
  },
  {
   "cell_type": "code",
   "execution_count": 45,
   "id": "9d485576",
   "metadata": {},
   "outputs": [],
   "source": [
    "bl = (min(row[0] for row in coords), min(row[1] for row in coords))"
   ]
  },
  {
   "cell_type": "code",
   "execution_count": 46,
   "id": "ff6d81c2",
   "metadata": {},
   "outputs": [],
   "source": [
    "tr = (max(row[0] for row in coords), max(row[1] for row in coords))"
   ]
  },
  {
   "cell_type": "code",
   "execution_count": 47,
   "id": "e697938e",
   "metadata": {},
   "outputs": [
    {
     "data": {
      "text/plain": [
       "((121.91825838609505, -14.048010970322123),\n",
       " (121.96423690097433, -14.002032455442848))"
      ]
     },
     "execution_count": 47,
     "metadata": {},
     "output_type": "execute_result"
    }
   ],
   "source": [
    "bl, tr"
   ]
  },
  {
   "cell_type": "code",
   "execution_count": 17,
   "id": "03a0ea22",
   "metadata": {},
   "outputs": [],
   "source": [
    "from sentinelhub import SentinelHubRequest, SentinelHubDownloadClient, BBox, CRS, DataCollection, MimeType, SHConfig\n",
    "from sentinelhub import WmsRequest, WcsRequest\n",
    "from sentinelhub import constants, CustomUrlParam\n",
    "from dotenv import load_dotenv\n",
    "import os\n",
    "import numpy as np"
   ]
  },
  {
   "cell_type": "code",
   "execution_count": 18,
   "id": "b07b84cf",
   "metadata": {},
   "outputs": [
    {
     "data": {
      "text/plain": [
       "True"
      ]
     },
     "execution_count": 18,
     "metadata": {},
     "output_type": "execute_result"
    }
   ],
   "source": [
    "load_dotenv()"
   ]
  },
  {
   "cell_type": "code",
   "execution_count": 19,
   "id": "19b1ef69",
   "metadata": {},
   "outputs": [],
   "source": [
    "config = SHConfig()\n",
    "config.sh_client_id = os.getenv(\"CLIENT_ID\")\n",
    "config.sh_client_secret = os.getenv(\"CLIENT_SECRET\")"
   ]
  },
  {
   "cell_type": "code",
   "execution_count": 20,
   "id": "2d5934ea",
   "metadata": {},
   "outputs": [],
   "source": [
    "import matplotlib.pyplot as plt\n",
    "import numpy as np\n",
    "\n",
    "\n",
    "def plot_image(image, factor, clip_range, **kwargs):\n",
    "    \"\"\"Utility function for plotting RGB images.\"\"\"\n",
    "    _, ax = plt.subplots(nrows=1, ncols=1, figsize=(5, 5))\n",
    "    if clip_range is not None:\n",
    "        ax.imshow(np.clip(image * factor, *clip_range), **kwargs)\n",
    "    else:\n",
    "        ax.imshow(image * factor, **kwargs)\n",
    "    ax.set_xticks([])\n",
    "    ax.set_yticks([])"
   ]
  },
  {
   "cell_type": "code",
   "execution_count": 48,
   "id": "351df8a0",
   "metadata": {},
   "outputs": [],
   "source": [
    "bbox = BBox((bl, tr), crs=CRS.WGS84)\n",
    "size = (512, 512)\n",
    "time_interval = \"2023-08-30\", \"2023-08-31\"\n",
    "data_folder = \"../sat_imgs\"\n",
    "\n",
    "evalscript_true_color =\"\"\"//VERSION=3\n",
    "\n",
    "function setup() {\n",
    "    return {\n",
    "        input: [{\n",
    "            bands: [\"B02\", \"B03\", \"B04\", \"B05\", \"B06\", \"B07\", \"B8A\", \"B09\", \"B11\", \"B12\"],\n",
    "        }],\n",
    "        output: {\n",
    "            bands: 10\n",
    "        }\n",
    "    };\n",
    "}\n",
    "\n",
    "function bilinearInterpolation(value, fromResolution, toResolution) {\n",
    "    // Perform bilinear interpolation manually\n",
    "    return value * (fromResolution / toResolution);\n",
    "}\n",
    "\n",
    "function evaluatePixel(sample) {\n",
    "    return [\n",
    "        bilinearInterpolation(sample.B02, 10, 10),\n",
    "        bilinearInterpolation(sample.B03, 10, 10),\n",
    "        bilinearInterpolation(sample.B04, 10, 10),\n",
    "        bilinearInterpolation(sample.B05, 20, 10),\n",
    "        bilinearInterpolation(sample.B06, 20, 10),\n",
    "        bilinearInterpolation(sample.B07, 20, 10),\n",
    "        bilinearInterpolation(sample.B8A, 20, 10),\n",
    "        bilinearInterpolation(sample.B09, 20, 10),\n",
    "        bilinearInterpolation(sample.B11, 20, 10),\n",
    "        bilinearInterpolation(sample.B12, 20, 10),\n",
    "    ];\n",
    "}\"\"\"\n",
    "# evalscript_true_color = \"\"\"\n",
    "# //VERSION=3\n",
    "\n",
    "# function setup() {\n",
    "#     return {\n",
    "#         input: [{\n",
    "#             bands: [\"B02\", \"B03\", \"B04\", \"B05\", \"B06\", \"B07\", \"B8A\", \"B09\", \"B11\", \"B12\"],\n",
    "#         }],\n",
    "#         output: {\n",
    "#             bands: 10\n",
    "#         }\n",
    "#     };\n",
    "# }\n",
    "\n",
    "# function evaluatePixel(sample) {\n",
    "#     return [sample.B02, sample.B03, sample.B04, sample.B05, sample.B06, sample.B07, sample.B8A, sample.B09, sample.B11, sample.B12];\n",
    "# }\n",
    "# \"\"\"\n",
    "\n",
    "request = SentinelHubRequest(\n",
    "    data_folder = data_folder,\n",
    "    evalscript=evalscript_true_color,\n",
    "    input_data=[\n",
    "        SentinelHubRequest.input_data(\n",
    "            data_collection=DataCollection.SENTINEL2_L2A,\n",
    "            time_interval=time_interval,\n",
    "            mosaicking_order=\"leastCC\",\n",
    "#             other_args={'processing': {'upsampling': 'BICUBIC'}}\n",
    "        )\n",
    "    ],\n",
    "    responses=[SentinelHubRequest.output_response(\"default\", MimeType.TIFF)],\n",
    "    bbox=bbox,\n",
    "    size=size,\n",
    "    config=config,\n",
    ")\n",
    "\n",
    "image = request.get_data()[0]\n",
    "# print(np.sum(image))\n",
    "# image = request.get_data(save_data = True, show_progress=True)"
   ]
  },
  {
   "cell_type": "code",
   "execution_count": 49,
   "id": "45fd0198",
   "metadata": {},
   "outputs": [],
   "source": [
    "image = image[..., 0: 3]"
   ]
  },
  {
   "cell_type": "raw",
   "id": "c6d7a7db",
   "metadata": {
    "scrolled": true
   },
   "source": [
    "plot_image(image, factor=1, clip_range=(0, 1))"
   ]
  },
  {
   "cell_type": "code",
   "execution_count": 23,
   "id": "7e8250db",
   "metadata": {},
   "outputs": [
    {
     "data": {
      "text/plain": [
       "array([[6, 6, 7, ..., 7, 7, 7],\n",
       "       [6, 6, 6, ..., 6, 6, 7],\n",
       "       [6, 6, 7, ..., 7, 7, 7],\n",
       "       ...,\n",
       "       [6, 7, 7, ..., 7, 7, 7],\n",
       "       [6, 7, 7, ..., 7, 7, 7],\n",
       "       [7, 7, 7, ..., 7, 7, 7]], dtype=uint8)"
      ]
     },
     "execution_count": 23,
     "metadata": {},
     "output_type": "execute_result"
    }
   ],
   "source": [
    "image[..., 0]"
   ]
  },
  {
   "cell_type": "code",
   "execution_count": 79,
   "id": "8d58fbac",
   "metadata": {},
   "outputs": [],
   "source": [
    "import rasterio\n",
    "from rasterio.transform import from_origin\n",
    "from rasterio.enums import Resampling\n",
    "from rasterio.warp import reproject, Resampling"
   ]
  },
  {
   "cell_type": "code",
   "execution_count": 92,
   "id": "367b7c49",
   "metadata": {},
   "outputs": [
    {
     "name": "stdout",
     "output_type": "stream",
     "text": [
      "10\n"
     ]
    }
   ],
   "source": [
    "with rasterio.open('../sat_imgs/f30c265cc1145e41034a916452f89a2b/response.tiff') as src:\n",
    "    print(src.count)"
   ]
  },
  {
   "cell_type": "code",
   "execution_count": 88,
   "id": "376cd683",
   "metadata": {},
   "outputs": [],
   "source": [
    "data = np.load('../sat_imgs/1/L2A.npy')\n"
   ]
  },
  {
   "cell_type": "code",
   "execution_count": 90,
   "id": "184fa6cd",
   "metadata": {},
   "outputs": [
    {
     "ename": "AttributeError",
     "evalue": "no_transform",
     "output_type": "error",
     "traceback": [
      "\u001b[0;31m---------------------------------------------------------------------------\u001b[0m",
      "\u001b[0;31mAttributeError\u001b[0m                            Traceback (most recent call last)",
      "\u001b[0;32m/tmp/ipykernel_121/2832970849.py\u001b[0m in \u001b[0;36m<module>\u001b[0;34m\u001b[0m\n\u001b[1;32m     27\u001b[0m         \u001b[0mdst_crs\u001b[0m \u001b[0;34m=\u001b[0m \u001b[0mdst_crs\u001b[0m\u001b[0;34m,\u001b[0m\u001b[0;34m\u001b[0m\u001b[0;34m\u001b[0m\u001b[0m\n\u001b[1;32m     28\u001b[0m         \u001b[0mresampling\u001b[0m\u001b[0;34m=\u001b[0m\u001b[0mResampling\u001b[0m\u001b[0;34m.\u001b[0m\u001b[0mbilinear\u001b[0m\u001b[0;34m,\u001b[0m\u001b[0;34m\u001b[0m\u001b[0;34m\u001b[0m\u001b[0m\n\u001b[0;32m---> 29\u001b[0;31m         \u001b[0msrc_method\u001b[0m\u001b[0;34m=\u001b[0m\u001b[0mResampling\u001b[0m\u001b[0;34m.\u001b[0m\u001b[0mno_transform\u001b[0m\u001b[0;34m\u001b[0m\u001b[0;34m\u001b[0m\u001b[0m\n\u001b[0m\u001b[1;32m     30\u001b[0m     )\n",
      "\u001b[0;32m~/miniconda3/lib/python3.7/enum.py\u001b[0m in \u001b[0;36m__getattr__\u001b[0;34m(cls, name)\u001b[0m\n\u001b[1;32m    352\u001b[0m             \u001b[0;32mreturn\u001b[0m \u001b[0mcls\u001b[0m\u001b[0;34m.\u001b[0m\u001b[0m_member_map_\u001b[0m\u001b[0;34m[\u001b[0m\u001b[0mname\u001b[0m\u001b[0;34m]\u001b[0m\u001b[0;34m\u001b[0m\u001b[0;34m\u001b[0m\u001b[0m\n\u001b[1;32m    353\u001b[0m         \u001b[0;32mexcept\u001b[0m \u001b[0mKeyError\u001b[0m\u001b[0;34m:\u001b[0m\u001b[0;34m\u001b[0m\u001b[0;34m\u001b[0m\u001b[0m\n\u001b[0;32m--> 354\u001b[0;31m             \u001b[0;32mraise\u001b[0m \u001b[0mAttributeError\u001b[0m\u001b[0;34m(\u001b[0m\u001b[0mname\u001b[0m\u001b[0;34m)\u001b[0m \u001b[0;32mfrom\u001b[0m \u001b[0;32mNone\u001b[0m\u001b[0;34m\u001b[0m\u001b[0;34m\u001b[0m\u001b[0m\n\u001b[0m\u001b[1;32m    355\u001b[0m \u001b[0;34m\u001b[0m\u001b[0m\n\u001b[1;32m    356\u001b[0m     \u001b[0;32mdef\u001b[0m \u001b[0m__getitem__\u001b[0m\u001b[0;34m(\u001b[0m\u001b[0mcls\u001b[0m\u001b[0;34m,\u001b[0m \u001b[0mname\u001b[0m\u001b[0;34m)\u001b[0m\u001b[0;34m:\u001b[0m\u001b[0;34m\u001b[0m\u001b[0;34m\u001b[0m\u001b[0m\n",
      "\u001b[0;31mAttributeError\u001b[0m: no_transform"
     ]
    }
   ],
   "source": [
    "dst_crs = 'EPSG:4326'\n",
    "\n",
    "# Extract information from the NumPy array\n",
    "bands, height, width = data.shape\n",
    "\n",
    "# Set the desired resolution (e.g., 10m)\n",
    "new_resolution = 10.0\n",
    "\n",
    "# Calculate new width and height based on the new resolution\n",
    "new_width = int(width * 20 / new_resolution)\n",
    "new_height = int(height * 20 / new_resolution)\n",
    "\n",
    "# Set the new transform with the desired resolution\n",
    "new_transform = from_origin(0, 0, new_resolution, new_resolution)\n",
    "\n",
    "# Create a new array for the upsampled data\n",
    "upsampled_data = np.zeros((new_height, new_width, bands), dtype=data.dtype)\n",
    "\n",
    "# Iterate over bands and perform resampling\n",
    "for band in range(3, 10):\n",
    "    reproject(\n",
    "        source=data[:, :, band],\n",
    "        destination=upsampled_data[:, :, band],\n",
    "        src_transform=None,  # Use None if no transform is provided in the input data\n",
    "        src_crs = dst_crs,\n",
    "        dst_transform=new_transform,\n",
    "        dst_crs = dst_crs,\n",
    "        resampling=Resampling.bilinear,\n",
    "        src_method=Resampling.no_transform\n",
    "    )"
   ]
  },
  {
   "cell_type": "code",
   "execution_count": 16,
   "id": "329ef321",
   "metadata": {},
   "outputs": [],
   "source": [
    "bbox = BBox((bl, tr), crs=CRS.WGS84)\n",
    "size = (512, 512)\n",
    "time_interval = \"2023-08-30\", \"2023-08-31\"\n",
    "data_folder = \"../sat_imgs\"\n",
    "\n",
    "evalscript_true_color = \"\"\"\n",
    "//VERSION=3\n",
    "\n",
    "function setup() {\n",
    "    return {\n",
    "        input: [{\n",
    "            bands: [\"DEM\"]\n",
    "        }],\n",
    "        output: {\n",
    "            bands: 1,\n",
    "            sampleType: \"FLOAT32\" \n",
    "        }\n",
    "    };\n",
    "}\n",
    "\n",
    "function evaluatePixel(sample) {\n",
    "    return [sample.DEM];\n",
    "}\n",
    "\"\"\"\n",
    "\n",
    "request = SentinelHubRequest(\n",
    "    data_folder = data_folder,\n",
    "    evalscript=evalscript_true_color,\n",
    "    input_data=[\n",
    "        SentinelHubRequest.input_data(\n",
    "            data_collection=DataCollection.DEM,\n",
    "            time_interval=time_interval,\n",
    "            mosaicking_order=\"leastCC\"\n",
    "            \n",
    "        )\n",
    "    ],\n",
    "    responses=[SentinelHubRequest.output_response(\"default\", MimeType.TIFF)],\n",
    "    bbox=bbox,\n",
    "    size=size,\n",
    "    config=config,\n",
    ")\n",
    "\n",
    "dem = request.get_data()[0]\n",
    "# print(np.sum(image))\n",
    "# image = request.get_data(save_data = True, show_progress=True)"
   ]
  },
  {
   "cell_type": "code",
   "execution_count": 13,
   "id": "0ce7bcc0",
   "metadata": {},
   "outputs": [],
   "source": [
    "from scipy.ndimage import median_filter"
   ]
  },
  {
   "cell_type": "code",
   "execution_count": 14,
   "id": "e8f4433d",
   "metadata": {},
   "outputs": [],
   "source": [
    "%run ../slope.py"
   ]
  },
  {
   "cell_type": "code",
   "execution_count": 17,
   "id": "09f69fed",
   "metadata": {},
   "outputs": [],
   "source": [
    "def process_dem(dem):\n",
    "    dem =  median_filter(dem, size = 5)\n",
    "    dem = calcSlope(dem.reshape((1, 512, 512)),\n",
    "                      np.full((512, 512), 10),\n",
    "                      np.full((512, 512), 10), \n",
    "                      zScale = 1, minSlope = 0.02)\n",
    "    dem = dem / 90\n",
    "    dem = dem.reshape((512, 512, 1))\n",
    "    dem = dem[1:-1, 1:-1]\n",
    "    dem = median_filter(dem, 5)[2:-2, 2:-2]\n",
    "    return dem\n"
   ]
  },
  {
   "cell_type": "code",
   "execution_count": 18,
   "id": "ec84ef19",
   "metadata": {},
   "outputs": [],
   "source": [
    "dem = process_dem(dem)"
   ]
  },
  {
   "cell_type": "code",
   "execution_count": 50,
   "id": "10cd116b",
   "metadata": {},
   "outputs": [],
   "source": [
    "path = os.path.join(\"../sat_imgs\", \"1\")"
   ]
  },
  {
   "cell_type": "code",
   "execution_count": 51,
   "id": "b7316815",
   "metadata": {},
   "outputs": [],
   "source": [
    "os.mkdir(path)"
   ]
  },
  {
   "cell_type": "code",
   "execution_count": 52,
   "id": "4bb8dcfb",
   "metadata": {},
   "outputs": [],
   "source": [
    "np.save(path + \"/dem\", dem)"
   ]
  },
  {
   "cell_type": "raw",
   "id": "4113e962",
   "metadata": {},
   "source": [
    "plot_image(image, factor=3.5 / 255, clip_range=(0, 1))"
   ]
  },
  {
   "cell_type": "code",
   "execution_count": 47,
   "id": "54042bcc",
   "metadata": {},
   "outputs": [
    {
     "name": "stdout",
     "output_type": "stream",
     "text": [
      "../sat_imgs/0a63ba069684fa673af9ea69e0cf5d8b/request.json\n",
      "../sat_imgs/0a63ba069684fa673af9ea69e0cf5d8b/response.tiff\n",
      "../sat_imgs/5515fc22c452136d8490bdd7c357a570/request.json\n",
      "../sat_imgs/5515fc22c452136d8490bdd7c357a570/response.png\n",
      "../sat_imgs/0b72b652985b4785df4400ef164c6874/request.json\n",
      "../sat_imgs/0b72b652985b4785df4400ef164c6874/response.tiff\n"
     ]
    }
   ],
   "source": [
    "for folder, _, filenames in os.walk(request.data_folder):\n",
    "    for filename in filenames:\n",
    "        print(os.path.join(folder, filename))"
   ]
  },
  {
   "cell_type": "code",
   "execution_count": 91,
   "id": "45038ed5",
   "metadata": {},
   "outputs": [],
   "source": [
    "from datetime import datetime, timedelta"
   ]
  },
  {
   "cell_type": "code",
   "execution_count": 76,
   "id": "bc0ed046",
   "metadata": {},
   "outputs": [
    {
     "data": {
      "text/plain": [
       "'2023-12-03'"
      ]
     },
     "execution_count": 76,
     "metadata": {},
     "output_type": "execute_result"
    }
   ],
   "source": [
    "today = datetime.today()\n",
    "formatted_date = today.strftime(\"%Y-%m-%d\")\n",
    "formatted_date"
   ]
  },
  {
   "cell_type": "code",
   "execution_count": 77,
   "id": "1218c971",
   "metadata": {},
   "outputs": [],
   "source": [
    "inputdate = \"2023-09-13\"\n"
   ]
  },
  {
   "cell_type": "code",
   "execution_count": 88,
   "id": "df08b8bc",
   "metadata": {},
   "outputs": [],
   "source": [
    "dt = [int(d) for d in inputdate.split('-')]\n",
    "dtt = datetime(*dt)"
   ]
  },
  {
   "cell_type": "code",
   "execution_count": 92,
   "id": "a10c12f5",
   "metadata": {},
   "outputs": [
    {
     "name": "stdout",
     "output_type": "stream",
     "text": [
      "2023-07-15\n",
      "2023-11-12\n"
     ]
    }
   ],
   "source": [
    "st = dtt - timedelta(days = 60)\n",
    "end = dtt + timedelta(days = 60)\n",
    "print(st.strftime(\"%Y-%m-%d\"))\n",
    "print(end.strftime(\"%Y-%m-%d\"))"
   ]
  },
  {
   "cell_type": "code",
   "execution_count": 90,
   "id": "0c0fe4b0",
   "metadata": {},
   "outputs": [
    {
     "ename": "TypeError",
     "evalue": "__init__() missing 1 required keyword-only argument: 'data_collection'",
     "output_type": "error",
     "traceback": [
      "\u001b[0;31m---------------------------------------------------------------------------\u001b[0m",
      "\u001b[0;31mTypeError\u001b[0m                                 Traceback (most recent call last)",
      "\u001b[0;32m/tmp/ipykernel_151/1246595394.py\u001b[0m in \u001b[0;36m<module>\u001b[0;34m\u001b[0m\n\u001b[1;32m      4\u001b[0m                          \u001b[0mconfig\u001b[0m\u001b[0;34m=\u001b[0m\u001b[0mconfig\u001b[0m\u001b[0;34m,\u001b[0m\u001b[0;34m\u001b[0m\u001b[0;34m\u001b[0m\u001b[0m\n\u001b[1;32m      5\u001b[0m                          \u001b[0mimage_format\u001b[0m\u001b[0;34m=\u001b[0m \u001b[0mMimeType\u001b[0m\u001b[0;34m.\u001b[0m\u001b[0mTIFF\u001b[0m\u001b[0;34m,\u001b[0m\u001b[0;34m\u001b[0m\u001b[0;34m\u001b[0m\u001b[0m\n\u001b[0;32m----> 6\u001b[0;31m                          custom_url_params={CustomUrlParam.SHOWLOGO: False})\n\u001b[0m\u001b[1;32m      7\u001b[0m \u001b[0mdem_image_init\u001b[0m \u001b[0;34m=\u001b[0m \u001b[0mdem_request\u001b[0m\u001b[0;34m.\u001b[0m\u001b[0mget_data\u001b[0m\u001b[0;34m(\u001b[0m\u001b[0;34m)\u001b[0m\u001b[0;34m[\u001b[0m\u001b[0;36m0\u001b[0m\u001b[0;34m]\u001b[0m\u001b[0;34m\u001b[0m\u001b[0;34m\u001b[0m\u001b[0m\n",
      "\u001b[0;32m~/miniconda3/lib/python3.7/site-packages/sentinelhub/api/ogc.py\u001b[0m in \u001b[0;36m__init__\u001b[0;34m(self, resx, resy, **kwargs)\u001b[0m\n\u001b[1;32m    293\u001b[0m         \u001b[0;34m:\u001b[0m\u001b[0mparam\u001b[0m \u001b[0mconfig\u001b[0m\u001b[0;34m:\u001b[0m \u001b[0mA\u001b[0m \u001b[0mcustom\u001b[0m \u001b[0minstance\u001b[0m \u001b[0mof\u001b[0m \u001b[0mconfig\u001b[0m \u001b[0;32mclass\u001b[0m \u001b[0mto\u001b[0m \u001b[0moverride\u001b[0m \u001b[0mparameters\u001b[0m \u001b[0;32mfrom\u001b[0m \u001b[0mthe\u001b[0m \u001b[0msaved\u001b[0m \u001b[0mconfiguration\u001b[0m\u001b[0;34m.\u001b[0m\u001b[0;34m\u001b[0m\u001b[0;34m\u001b[0m\u001b[0m\n\u001b[1;32m    294\u001b[0m         \"\"\"\n\u001b[0;32m--> 295\u001b[0;31m         \u001b[0msuper\u001b[0m\u001b[0;34m(\u001b[0m\u001b[0;34m)\u001b[0m\u001b[0;34m.\u001b[0m\u001b[0m__init__\u001b[0m\u001b[0;34m(\u001b[0m\u001b[0mservice_type\u001b[0m\u001b[0;34m=\u001b[0m\u001b[0mServiceType\u001b[0m\u001b[0;34m.\u001b[0m\u001b[0mWCS\u001b[0m\u001b[0;34m,\u001b[0m \u001b[0msize_x\u001b[0m\u001b[0;34m=\u001b[0m\u001b[0mresx\u001b[0m\u001b[0;34m,\u001b[0m \u001b[0msize_y\u001b[0m\u001b[0;34m=\u001b[0m\u001b[0mresy\u001b[0m\u001b[0;34m,\u001b[0m \u001b[0;34m**\u001b[0m\u001b[0mkwargs\u001b[0m\u001b[0;34m)\u001b[0m\u001b[0;34m\u001b[0m\u001b[0;34m\u001b[0m\u001b[0m\n\u001b[0m\u001b[1;32m    296\u001b[0m \u001b[0;34m\u001b[0m\u001b[0m\n\u001b[1;32m    297\u001b[0m \u001b[0;34m\u001b[0m\u001b[0m\n",
      "\u001b[0;31mTypeError\u001b[0m: __init__() missing 1 required keyword-only argument: 'data_collection'"
     ]
    }
   ],
   "source": [
    "dem_request = WcsRequest(\n",
    "                         layer='DEM', bbox=bbox,\n",
    "                         resx = \"10m\", resy = \"10m\",\n",
    "                         config=config,\n",
    "                         image_format= MimeType.TIFF,\n",
    "                         custom_url_params={CustomUrlParam.SHOWLOGO: False})\n",
    "dem_image_init = dem_request.get_data()[0]"
   ]
  },
  {
   "cell_type": "code",
   "execution_count": 53,
   "id": "963f1f8b",
   "metadata": {},
   "outputs": [],
   "source": [
    "from slope import calcSlope"
   ]
  },
  {
   "cell_type": "code",
   "execution_count": 55,
   "id": "3686c216",
   "metadata": {},
   "outputs": [
    {
     "data": {
      "text/plain": [
       "True"
      ]
     },
     "execution_count": 55,
     "metadata": {},
     "output_type": "execute_result"
    }
   ],
   "source": [
    "os.path.isdir(path) "
   ]
  },
  {
   "cell_type": "code",
   "execution_count": 56,
   "id": "6c2190ab",
   "metadata": {},
   "outputs": [
    {
     "ename": "AttributeError",
     "evalue": "'SentinelHubRequest' object has no attribute 'execute'",
     "output_type": "error",
     "traceback": [
      "\u001b[0;31m---------------------------------------------------------------------------\u001b[0m",
      "\u001b[0;31mAttributeError\u001b[0m                            Traceback (most recent call last)",
      "\u001b[0;32m/tmp/ipykernel_121/3878303744.py\u001b[0m in \u001b[0;36m<module>\u001b[0;34m\u001b[0m\n\u001b[0;32m----> 1\u001b[0;31m \u001b[0mrequest\u001b[0m\u001b[0;34m.\u001b[0m\u001b[0mexecute\u001b[0m\u001b[0;34m(\u001b[0m\u001b[0;34m)\u001b[0m\u001b[0;34m\u001b[0m\u001b[0;34m\u001b[0m\u001b[0m\n\u001b[0m",
      "\u001b[0;31mAttributeError\u001b[0m: 'SentinelHubRequest' object has no attribute 'execute'"
     ]
    }
   ],
   "source": [
    "request.execute()"
   ]
  },
  {
   "cell_type": "code",
   "execution_count": null,
   "id": "976c122f",
   "metadata": {},
   "outputs": [],
   "source": []
  }
 ],
 "metadata": {
  "kernelspec": {
   "display_name": "Python 3 (ipykernel)",
   "language": "python",
   "name": "python3"
  },
  "language_info": {
   "codemirror_mode": {
    "name": "ipython",
    "version": 3
   },
   "file_extension": ".py",
   "mimetype": "text/x-python",
   "name": "python",
   "nbconvert_exporter": "python",
   "pygments_lexer": "ipython3",
   "version": "3.7.16"
  }
 },
 "nbformat": 4,
 "nbformat_minor": 5
}
