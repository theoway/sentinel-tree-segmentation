{
 "cells": [
  {
   "cell_type": "code",
   "execution_count": 12,
   "id": "cac63d8a",
   "metadata": {},
   "outputs": [],
   "source": [
    "from shapely.geometry import box\n",
    "import geopandas as gpd\n",
    "import rasterio\n",
    "from rasterio.transform import from_origin\n",
    "from shapely.ops import unary_union\n",
    "from fiona.crs import from_epsg\n",
    "import os\n",
    "import numpy as np\n",
    "import pandas as pd"
   ]
  },
  {
   "cell_type": "code",
   "execution_count": 5,
   "id": "c3c34c03",
   "metadata": {},
   "outputs": [],
   "source": [
    "from geopy.distance import geodesic\n",
    "\n",
    "def meters_to_degrees(meters, latitude):\n",
    "    # Calculate the distance per degree at the specified latitude\n",
    "    meters_per_degree = geodesic((latitude, 0), (latitude + 1, 0)).meters\n",
    "\n",
    "    # Convert meters to degrees\n",
    "    degrees = meters / meters_per_degree\n",
    "\n",
    "    return degrees"
   ]
  },
  {
   "cell_type": "code",
   "execution_count": 6,
   "id": "ebe6f5ca",
   "metadata": {},
   "outputs": [],
   "source": [
    "\n",
    "def generate_bounding_boxes(tiff_path, box_size):\n",
    "    \"\"\"\n",
    "    Generate fixed-sized square bounding boxes inside a given TIFF file.\n",
    "\n",
    "    Parameters:\n",
    "    - tiff_path: Path to the TIFF file\n",
    "    - box_size: Size of the square bounding boxes\n",
    "\n",
    "    Returns:\n",
    "    - List of Shapely Polygon objects representing the bounding boxes\n",
    "    \"\"\"\n",
    "    # Open the TIFF file and get its bounds\n",
    "    bounding_boxes = []\n",
    "    imgs = []\n",
    "    \n",
    "    with rasterio.open(tiff_path) as src:\n",
    "        \n",
    "        bounds = box(*src.bounds)\n",
    "        \n",
    "        avg_lat = (bounds.bounds[1] + bounds.bounds[2]) / 2\n",
    "        box_size = meters_to_degrees(box_size, avg_lat)\n",
    "        # Calculate the number of boxes in the x and y directions\n",
    "        num_boxes_x = int((bounds.bounds[2] - bounds.bounds[0]) // box_size)\n",
    "        num_boxes_y = int((bounds.bounds[3] - bounds.bounds[1]) // box_size)\n",
    "        \n",
    "        # Generate the bounding boxes\n",
    "\n",
    "        for i in range(num_boxes_x):\n",
    "            for j in range(num_boxes_y):\n",
    "                # Calculate the coordinates of the box\n",
    "                min_x = bounds.bounds[0] + i * box_size\n",
    "                min_y = bounds.bounds[1] + j * box_size\n",
    "                max_x = min_x + box_size\n",
    "                max_y = min_y + box_size\n",
    "\n",
    "                # Create a Shapely box\n",
    "                box_geometry = box(min_x, min_y, max_x, max_y)\n",
    "\n",
    "                # Check if the box is completely within the TIFF bounds\n",
    "                \n",
    "                if bounds.contains(box_geometry):                    \n",
    "                    \n",
    "                    window = src.window(min_x, min_y, max_x, max_y)\n",
    "                    image_array = src.read(window=window)\n",
    "                    pixels = image_array.shape[0] * image_array.shape[1]\n",
    "                    if np.count_nonzero(image_array) >= pixels * 0.5:  \n",
    "                        \n",
    "                        imgs.append(image_array)                    \n",
    "                        bounding_boxes.append(box_geometry)\n",
    "        \n",
    "                    \n",
    "\n",
    "    return bounding_boxes, imgs\n",
    "\n",
    "\n"
   ]
  },
  {
   "cell_type": "code",
   "execution_count": 17,
   "id": "85eaa12a",
   "metadata": {},
   "outputs": [],
   "source": [
    "tiff_path = '../data/tif_labels/'  \n",
    "box_size = 5120"
   ]
  },
  {
   "cell_type": "code",
   "execution_count": 18,
   "id": "d97250f1",
   "metadata": {},
   "outputs": [],
   "source": [
    "tif_labels_path = [os.path.join(tiff_path, file) for file in os.listdir(tiff_path) if file.endswith(\".tif\")]"
   ]
  },
  {
   "cell_type": "code",
   "execution_count": 19,
   "id": "d4f88ee1",
   "metadata": {},
   "outputs": [
    {
     "data": {
      "text/plain": [
       "['../data/tif_labels/TropicalTreeCover_NorthernQLD-0000000000-0000000000.tif',\n",
       " '../data/tif_labels/TropicalTreeCover_NorthernQLD-0000131072-0000196608.tif']"
      ]
     },
     "execution_count": 19,
     "metadata": {},
     "output_type": "execute_result"
    }
   ],
   "source": [
    "tif_labels_path"
   ]
  },
  {
   "cell_type": "code",
   "execution_count": 20,
   "id": "7eec9440",
   "metadata": {},
   "outputs": [],
   "source": [
    "all_gdf = gpd.GeoDataFrame()"
   ]
  },
  {
   "cell_type": "code",
   "execution_count": 21,
   "id": "d0a3ca6e",
   "metadata": {},
   "outputs": [
    {
     "name": "stdout",
     "output_type": "stream",
     "text": [
      "0\n",
      "1\n"
     ]
    }
   ],
   "source": [
    "target_crs = from_epsg(4326)\n",
    "\n",
    "for i, path in enumerate(tif_labels_path):\n",
    "    \n",
    "    # Generate bounding boxes\n",
    "    bounding_boxes, imgs = generate_bounding_boxes(path, box_size)\n",
    "    \n",
    "    # Save the bounding boxes to a GeoJSON file\n",
    "    gdf = gpd.GeoDataFrame(geometry=bounding_boxes, crs=target_crs)\n",
    "    gdf['height'] = (imgs[0].shape[1])\n",
    "    gdf['width'] = (imgs[0].shape[2])\n",
    "    all_gdf = pd.concat([all_gdf, gdf], ignore_index = True)\n",
    "    print(i)\n",
    "\n",
    "all_gdf.to_file('bounding_boxes.geojson', driver='GeoJSON')"
   ]
  },
  {
   "cell_type": "code",
   "execution_count": 27,
   "id": "0f32b333",
   "metadata": {},
   "outputs": [
    {
     "data": {
      "text/plain": [
       "1699"
      ]
     },
     "execution_count": 27,
     "metadata": {},
     "output_type": "execute_result"
    }
   ],
   "source": [
    "len(all_gdf)"
   ]
  },
  {
   "cell_type": "code",
   "execution_count": 15,
   "id": "14b52ed3",
   "metadata": {},
   "outputs": [],
   "source": [
    "for i in range(100):\n",
    "    np.save(\"../data/labels/{iid}\".format(iid = i), imgs[i])"
   ]
  }
 ],
 "metadata": {
  "kernelspec": {
   "display_name": "Python 3 (ipykernel)",
   "language": "python",
   "name": "python3"
  },
  "language_info": {
   "codemirror_mode": {
    "name": "ipython",
    "version": 3
   },
   "file_extension": ".py",
   "mimetype": "text/x-python",
   "name": "python",
   "nbconvert_exporter": "python",
   "pygments_lexer": "ipython3",
   "version": "3.7.16"
  }
 },
 "nbformat": 4,
 "nbformat_minor": 5
}
