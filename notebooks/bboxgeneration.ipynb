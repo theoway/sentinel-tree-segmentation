{
 "cells": [
  {
   "cell_type": "code",
   "execution_count": 1,
   "id": "cac63d8a",
   "metadata": {},
   "outputs": [],
   "source": [
    "from shapely.geometry import box\n",
    "import geopandas as gpd\n",
    "import rasterio\n",
    "from rasterio.transform import from_origin\n",
    "from shapely.ops import unary_union\n",
    "from fiona.crs import from_epsg\n",
    "import os\n",
    "import numpy as np"
   ]
  },
  {
   "cell_type": "code",
   "execution_count": 2,
   "id": "c3c34c03",
   "metadata": {},
   "outputs": [],
   "source": [
    "from geopy.distance import geodesic\n",
    "\n",
    "def meters_to_degrees(meters, latitude):\n",
    "    # Calculate the distance per degree at the specified latitude\n",
    "    meters_per_degree = geodesic((latitude, 0), (latitude + 1, 0)).meters\n",
    "\n",
    "    # Convert meters to degrees\n",
    "    degrees = meters / meters_per_degree\n",
    "\n",
    "    return degrees"
   ]
  },
  {
   "cell_type": "code",
   "execution_count": 3,
   "id": "ebe6f5ca",
   "metadata": {},
   "outputs": [],
   "source": [
    "\n",
    "def generate_bounding_boxes(tiff_path, box_size):\n",
    "    \"\"\"\n",
    "    Generate fixed-sized square bounding boxes inside a given TIFF file.\n",
    "\n",
    "    Parameters:\n",
    "    - tiff_path: Path to the TIFF file\n",
    "    - box_size: Size of the square bounding boxes\n",
    "\n",
    "    Returns:\n",
    "    - List of Shapely Polygon objects representing the bounding boxes\n",
    "    \"\"\"\n",
    "    # Open the TIFF file and get its bounds\n",
    "    bounding_boxes = []\n",
    "    imgs = []\n",
    "    \n",
    "    with rasterio.open(tiff_path) as src:\n",
    "        \n",
    "        bounds = box(*src.bounds)\n",
    "        \n",
    "        avg_lat = (bounds.bounds[1] + bounds.bounds[2]) / 2\n",
    "        box_size = meters_to_degrees(box_size, avg_lat)\n",
    "        # Calculate the number of boxes in the x and y directions\n",
    "        num_boxes_x = int((bounds.bounds[2] - bounds.bounds[0]) // box_size)\n",
    "        num_boxes_y = int((bounds.bounds[3] - bounds.bounds[1]) // box_size)\n",
    "        print(num_boxes_x, num_boxes_y)\n",
    "        # Generate the bounding boxes\n",
    "        cnt = 0\n",
    "        cnt2 = 0\n",
    "        for i in range(num_boxes_x):\n",
    "            for j in range(num_boxes_y):\n",
    "                # Calculate the coordinates of the box\n",
    "                min_x = bounds.bounds[0] + i * box_size\n",
    "                min_y = bounds.bounds[1] + j * box_size\n",
    "                max_x = min_x + box_size\n",
    "                max_y = min_y + box_size\n",
    "\n",
    "                # Create a Shapely box\n",
    "                box_geometry = box(min_x, min_y, max_x, max_y)\n",
    "\n",
    "                # Check if the box is completely within the TIFF bounds\n",
    "                \n",
    "                if bounds.contains(box_geometry):                    \n",
    "                    cnt+=1\n",
    "                    window = src.window(min_x, min_y, max_x, max_y)\n",
    "                    image_array = src.read(window=window)\n",
    "                    pixels = image_array.shape[0] * image_array.shape[1]\n",
    "                    if np.count_nonzero(image_array) >= pixels * 0.5:  \n",
    "                        cnt2 += 1\n",
    "                        imgs.append(image_array)                    \n",
    "                        bounding_boxes.append(box_geometry)\n",
    "        print(cnt, cnt2)\n",
    "                    \n",
    "\n",
    "    return bounding_boxes, imgs\n",
    "\n",
    "\n"
   ]
  },
  {
   "cell_type": "code",
   "execution_count": 4,
   "id": "85eaa12a",
   "metadata": {},
   "outputs": [],
   "source": [
    "tiff_path = '../data/tif_labels/'  \n",
    "box_size = 5120"
   ]
  },
  {
   "cell_type": "code",
   "execution_count": 5,
   "id": "d97250f1",
   "metadata": {},
   "outputs": [],
   "source": [
    "tif_labels_path = [os.path.join(tiff_path, file) for file in os.listdir(tiff_path) if file.endswith(\".tif\")]"
   ]
  },
  {
   "cell_type": "code",
   "execution_count": 6,
   "id": "d4f88ee1",
   "metadata": {},
   "outputs": [
    {
     "data": {
      "text/plain": [
       "['../data/tif_labels/TropicalTreeCover_NorthernQLD-0000131072-0000196608.tif']"
      ]
     },
     "execution_count": 6,
     "metadata": {},
     "output_type": "execute_result"
    }
   ],
   "source": [
    "tif_labels_path"
   ]
  },
  {
   "cell_type": "code",
   "execution_count": 12,
   "id": "d0a3ca6e",
   "metadata": {},
   "outputs": [
    {
     "name": "stdout",
     "output_type": "stream",
     "text": [
      "131 74\n",
      "9694 634\n"
     ]
    }
   ],
   "source": [
    "target_crs = from_epsg(4326)\n",
    "for i, path in enumerate(tif_labels_path):\n",
    "    # Generate bounding boxes\n",
    "    bounding_boxes, imgs = generate_bounding_boxes(path, box_size)\n",
    "\n",
    "    # Save the bounding boxes to a GeoJSON file\n",
    "    gdf = gpd.GeoDataFrame(geometry=bounding_boxes, crs=target_crs)\n",
    "    gdf['height'] = (imgs[0].shape[1])\n",
    "    gdf['width'] = (imgs[0].shape[2])\n",
    "#     print(gdf)\n",
    "    gdf.to_file('bounding_boxes{bid}.geojson'.format(bid = i), driver='GeoJSON')"
   ]
  },
  {
   "cell_type": "code",
   "execution_count": 13,
   "id": "86a1fe1c",
   "metadata": {},
   "outputs": [
    {
     "data": {
      "text/plain": [
       "(1, 523, 499)"
      ]
     },
     "execution_count": 13,
     "metadata": {},
     "output_type": "execute_result"
    }
   ],
   "source": [
    "imgs[0].shape"
   ]
  },
  {
   "cell_type": "code",
   "execution_count": 14,
   "id": "0f32b333",
   "metadata": {},
   "outputs": [
    {
     "data": {
      "text/html": [
       "<div>\n",
       "<style scoped>\n",
       "    .dataframe tbody tr th:only-of-type {\n",
       "        vertical-align: middle;\n",
       "    }\n",
       "\n",
       "    .dataframe tbody tr th {\n",
       "        vertical-align: top;\n",
       "    }\n",
       "\n",
       "    .dataframe thead th {\n",
       "        text-align: right;\n",
       "    }\n",
       "</style>\n",
       "<table border=\"1\" class=\"dataframe\">\n",
       "  <thead>\n",
       "    <tr style=\"text-align: right;\">\n",
       "      <th></th>\n",
       "      <th>geometry</th>\n",
       "      <th>height</th>\n",
       "      <th>width</th>\n",
       "    </tr>\n",
       "  </thead>\n",
       "  <tbody>\n",
       "    <tr>\n",
       "      <th>0</th>\n",
       "      <td>POLYGON ((144.36207 -21.34429, 144.36207 -21.2...</td>\n",
       "      <td>523</td>\n",
       "      <td>499</td>\n",
       "    </tr>\n",
       "    <tr>\n",
       "      <th>1</th>\n",
       "      <td>POLYGON ((144.36207 -21.29835, 144.36207 -21.2...</td>\n",
       "      <td>523</td>\n",
       "      <td>499</td>\n",
       "    </tr>\n",
       "    <tr>\n",
       "      <th>2</th>\n",
       "      <td>POLYGON ((144.36207 -21.25240, 144.36207 -21.2...</td>\n",
       "      <td>523</td>\n",
       "      <td>499</td>\n",
       "    </tr>\n",
       "    <tr>\n",
       "      <th>3</th>\n",
       "      <td>POLYGON ((144.36207 -21.20645, 144.36207 -21.1...</td>\n",
       "      <td>523</td>\n",
       "      <td>499</td>\n",
       "    </tr>\n",
       "    <tr>\n",
       "      <th>4</th>\n",
       "      <td>POLYGON ((144.36207 -21.16051, 144.36207 -21.1...</td>\n",
       "      <td>523</td>\n",
       "      <td>499</td>\n",
       "    </tr>\n",
       "    <tr>\n",
       "      <th>...</th>\n",
       "      <td>...</td>\n",
       "      <td>...</td>\n",
       "      <td>...</td>\n",
       "    </tr>\n",
       "    <tr>\n",
       "      <th>629</th>\n",
       "      <td>POLYGON ((145.64858 -20.97672, 145.64858 -20.9...</td>\n",
       "      <td>523</td>\n",
       "      <td>499</td>\n",
       "    </tr>\n",
       "    <tr>\n",
       "      <th>630</th>\n",
       "      <td>POLYGON ((145.64858 -20.93077, 145.64858 -20.8...</td>\n",
       "      <td>523</td>\n",
       "      <td>499</td>\n",
       "    </tr>\n",
       "    <tr>\n",
       "      <th>631</th>\n",
       "      <td>POLYGON ((145.64858 -20.88482, 145.64858 -20.8...</td>\n",
       "      <td>523</td>\n",
       "      <td>499</td>\n",
       "    </tr>\n",
       "    <tr>\n",
       "      <th>632</th>\n",
       "      <td>POLYGON ((145.64858 -20.83888, 145.64858 -20.7...</td>\n",
       "      <td>523</td>\n",
       "      <td>499</td>\n",
       "    </tr>\n",
       "    <tr>\n",
       "      <th>633</th>\n",
       "      <td>POLYGON ((145.64858 -20.79293, 145.64858 -20.7...</td>\n",
       "      <td>523</td>\n",
       "      <td>499</td>\n",
       "    </tr>\n",
       "  </tbody>\n",
       "</table>\n",
       "<p>634 rows × 3 columns</p>\n",
       "</div>"
      ],
      "text/plain": [
       "                                              geometry  height  width\n",
       "0    POLYGON ((144.36207 -21.34429, 144.36207 -21.2...     523    499\n",
       "1    POLYGON ((144.36207 -21.29835, 144.36207 -21.2...     523    499\n",
       "2    POLYGON ((144.36207 -21.25240, 144.36207 -21.2...     523    499\n",
       "3    POLYGON ((144.36207 -21.20645, 144.36207 -21.1...     523    499\n",
       "4    POLYGON ((144.36207 -21.16051, 144.36207 -21.1...     523    499\n",
       "..                                                 ...     ...    ...\n",
       "629  POLYGON ((145.64858 -20.97672, 145.64858 -20.9...     523    499\n",
       "630  POLYGON ((145.64858 -20.93077, 145.64858 -20.8...     523    499\n",
       "631  POLYGON ((145.64858 -20.88482, 145.64858 -20.8...     523    499\n",
       "632  POLYGON ((145.64858 -20.83888, 145.64858 -20.7...     523    499\n",
       "633  POLYGON ((145.64858 -20.79293, 145.64858 -20.7...     523    499\n",
       "\n",
       "[634 rows x 3 columns]"
      ]
     },
     "execution_count": 14,
     "metadata": {},
     "output_type": "execute_result"
    }
   ],
   "source": [
    "gdf"
   ]
  },
  {
   "cell_type": "code",
   "execution_count": 15,
   "id": "14b52ed3",
   "metadata": {},
   "outputs": [],
   "source": [
    "for i in range(100):\n",
    "    np.save(\"../data/labels/{iid}\".format(iid = i), imgs[i])"
   ]
  },
  {
   "cell_type": "code",
   "execution_count": 29,
   "id": "25378bf1",
   "metadata": {},
   "outputs": [],
   "source": [
    "mask = np.where(imgs[0] <= 35, 0, 1)"
   ]
  },
  {
   "cell_type": "code",
   "execution_count": 31,
   "id": "29029c02",
   "metadata": {},
   "outputs": [
    {
     "data": {
      "text/plain": [
       "185"
      ]
     },
     "execution_count": 31,
     "metadata": {},
     "output_type": "execute_result"
    }
   ],
   "source": [
    "np.count_nonzero(mask)"
   ]
  },
  {
   "cell_type": "raw",
   "id": "90aee308",
   "metadata": {},
   "source": [
    "import rasterio\n",
    "raster =  rasterio.open('../TropicalTreeCover_NorthernQLD-0000000000-0000000000.tif')\n",
    "gt = raster.transform\n",
    "gt[0], gt[4]"
   ]
  }
 ],
 "metadata": {
  "kernelspec": {
   "display_name": "Python 3 (ipykernel)",
   "language": "python",
   "name": "python3"
  },
  "language_info": {
   "codemirror_mode": {
    "name": "ipython",
    "version": 3
   },
   "file_extension": ".py",
   "mimetype": "text/x-python",
   "name": "python",
   "nbconvert_exporter": "python",
   "pygments_lexer": "ipython3",
   "version": "3.7.16"
  }
 },
 "nbformat": 4,
 "nbformat_minor": 5
}
