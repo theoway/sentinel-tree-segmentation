{
 "cells": [
  {
   "cell_type": "code",
   "execution_count": 1,
   "id": "a7ee2f14",
   "metadata": {},
   "outputs": [],
   "source": [
    "from shapely.geometry import Polygon, box\n",
    "import geopandas as gpd\n",
    "import fiona\n",
    "from shapely.ops import unary_union\n",
    "from fiona.crs import from_epsg\n",
    "import json\n",
    "import rasterio\n",
    "from tqdm import tqdm"
   ]
  },
  {
   "cell_type": "code",
   "execution_count": 2,
   "id": "b40a2f68",
   "metadata": {},
   "outputs": [],
   "source": [
    "tiff_path = '../TropicalTreeCover_NorthernQLD-0000000000-0000000000.tif'\n",
    "path = \"bounding_boxes.geojson\"\n",
    "with open(path) as file:\n",
    "    data = json.load(file)\n"
   ]
  },
  {
   "cell_type": "code",
   "execution_count": 3,
   "id": "1bc0c3ef",
   "metadata": {},
   "outputs": [
    {
     "data": {
      "text/plain": [
       "16375"
      ]
     },
     "execution_count": 3,
     "metadata": {},
     "output_type": "execute_result"
    }
   ],
   "source": [
    "len(data['features'])"
   ]
  },
  {
   "cell_type": "code",
   "execution_count": 20,
   "id": "8579c99e",
   "metadata": {},
   "outputs": [],
   "source": [
    "coords = data['features'][1020]['geometry']['coordinates'][0]\n",
    "bl = (min(row[0] for row in coords), min(row[1] for row in coords))\n",
    "tr = (max(row[0] for row in coords), max(row[1] for row in coords))\n",
    "bounds = (*bl, *tr)"
   ]
  },
  {
   "cell_type": "code",
   "execution_count": 24,
   "id": "b9eae513",
   "metadata": {},
   "outputs": [],
   "source": [
    "bounds = box(*bounds)"
   ]
  },
  {
   "cell_type": "code",
   "execution_count": 29,
   "id": "dc8d4029",
   "metadata": {},
   "outputs": [
    {
     "data": {
      "text/plain": [
       "(121.91825838609505,\n",
       " -14.048010970322123,\n",
       " 121.96423690097433,\n",
       " -14.002032455442848)"
      ]
     },
     "execution_count": 29,
     "metadata": {},
     "output_type": "execute_result"
    }
   ],
   "source": [
    "bounds.bounds"
   ]
  },
  {
   "cell_type": "code",
   "execution_count": null,
   "id": "b6367df3",
   "metadata": {},
   "outputs": [
    {
     "name": "stderr",
     "output_type": "stream",
     "text": [
      " 96%|█████████████████████████████████████████████████████████████████████████▏  | 15760/16375 [00:29<00:01, 351.16it/s]IOStream.flush timed out\n",
      " 97%|██████████████████████████████████████████████████████████████████████████▍  | 15838/16375 [02:17<16:45,  1.87s/it]"
     ]
    }
   ],
   "source": [
    "images = []\n",
    "with rasterio.open(tiff_path) as src:\n",
    "        \n",
    "    with open(path) as file:\n",
    "        data = json.load(file)\n",
    "        \n",
    "    for i in tqdm(range(len(data['features']))):\n",
    "        coords = data['features'][i]['geometry']['coordinates'][0]\n",
    "        bl = (min(row[0] for row in coords), min(row[1] for row in coords))\n",
    "        tr = (max(row[0] for row in coords), max(row[1] for row in coords))\n",
    "        bounds = (*bl, *tr)\n",
    "        bounds = box(*bounds)\n",
    "        min_x = bounds.bounds[0] \n",
    "        min_y = bounds.bounds[1] \n",
    "        max_x = bounds.bounds[2]\n",
    "        max_y = bounds.bounds[3]\n",
    "\n",
    "        window = src.window(min_x, min_y, max_x, max_y)\n",
    "        image_array = src.read(window=window)\n",
    "\n",
    "        images.append(image_array)\n"
   ]
  },
  {
   "cell_type": "code",
   "execution_count": null,
   "id": "9018f1bb",
   "metadata": {},
   "outputs": [],
   "source": []
  }
 ],
 "metadata": {
  "kernelspec": {
   "display_name": "Python 3 (ipykernel)",
   "language": "python",
   "name": "python3"
  },
  "language_info": {
   "codemirror_mode": {
    "name": "ipython",
    "version": 3
   },
   "file_extension": ".py",
   "mimetype": "text/x-python",
   "name": "python",
   "nbconvert_exporter": "python",
   "pygments_lexer": "ipython3",
   "version": "3.7.16"
  }
 },
 "nbformat": 4,
 "nbformat_minor": 5
}
